{
  "nbformat": 4,
  "nbformat_minor": 0,
  "metadata": {
    "colab": {
      "provenance": []
    },
    "kernelspec": {
      "name": "python3",
      "display_name": "Python 3"
    },
    "language_info": {
      "name": "python"
    }
  },
  "cells": [
    {
      "cell_type": "code",
      "execution_count": 2,
      "metadata": {
        "colab": {
          "base_uri": "https://localhost:8080/"
        },
        "id": "LwC3mo6F1YDU",
        "outputId": "70fd51bb-2fdd-4ccf-9ae9-1d6c6445d15a"
      },
      "outputs": [
        {
          "output_type": "stream",
          "name": "stdout",
          "text": [
            "Enter nameahmed\n",
            "Enter age31\n",
            "Hello ahmed of age 31\n"
          ]
        }
      ],
      "source": [
        "# Hello, Python!\n",
        "# ● Write a program that asks the user for their name and age, then prints a greeting\n",
        "# message.\n",
        "def hello_python():\n",
        "    name = input(\"Enter name\")\n",
        "    age = input(\"Enter age\")\n",
        "    print(f\"Hello {name} of age {age}\")\n",
        "\n",
        "hello_python()"
      ]
    },
    {
      "cell_type": "code",
      "source": [
        "# Data Type Identification\n",
        "# ● Create a program that takes user input and determines its data type, handling\n",
        "# conversions to int or float when possible.\n",
        "def data_type_id():\n",
        "    data = input(\"Enter input\")\n",
        "    try:\n",
        "        data_int = int(data)\n",
        "        print(f\"Data type of {data} is int\")\n",
        "    except:\n",
        "        try:\n",
        "            data_float = float(data)\n",
        "            print(f\"Data type of {data} is float\")\n",
        "        except:\n",
        "            print(f\"Data type of {data} is string\")\n",
        "\n",
        "data_type_id()\n",
        "\n"
      ],
      "metadata": {
        "colab": {
          "base_uri": "https://localhost:8080/"
        },
        "id": "s5UcQ3hC1eo6",
        "outputId": "2b05f308-fe3e-4ae3-aabc-731bca1c2d3d"
      },
      "execution_count": 21,
      "outputs": [
        {
          "output_type": "stream",
          "name": "stdout",
          "text": [
            "Enter input5\n",
            "<class 'str'>\n",
            "Data type of 5 is int\n"
          ]
        }
      ]
    },
    {
      "cell_type": "code",
      "source": [
        "# List Operations\n",
        "# ● Initialize a list with specific elements, modify it by adding and removing items, and print\n",
        "# each element in uppercase.\n",
        "def list_ops():\n",
        "    arr = ['a', 'b', 'c']\n",
        "    print(arr)\n",
        "    arr.append('d')\n",
        "    print(arr)\n",
        "    arr.remove('a')\n",
        "    print(arr)\n",
        "\n",
        "    for e in arr:\n",
        "        print(e.upper())\n",
        "\n",
        "list_ops()\n"
      ],
      "metadata": {
        "colab": {
          "base_uri": "https://localhost:8080/"
        },
        "id": "M4nwLKY93Ko2",
        "outputId": "5ba8825b-9424-46df-db7a-e4b63d3280c2"
      },
      "execution_count": 7,
      "outputs": [
        {
          "output_type": "stream",
          "name": "stdout",
          "text": [
            "['a', 'b', 'c']\n",
            "['a', 'b', 'c', 'd']\n",
            "['b', 'c', 'd']\n",
            "B\n",
            "C\n",
            "D\n"
          ]
        }
      ]
    },
    {
      "cell_type": "code",
      "source": [
        "# Tuple Unpacking\n",
        "# ● Unpack the first two elements of a given tuple into separate variables and print them.\n",
        "def tuple_unpack():\n",
        "    tup = ('abc', 5, 'a')\n",
        "    first, second = tup[0], tup[1]\n",
        "\n",
        "    print(first)\n",
        "    print(second)\n",
        "tuple_unpack()"
      ],
      "metadata": {
        "colab": {
          "base_uri": "https://localhost:8080/"
        },
        "id": "Sbpajh0R4KEt",
        "outputId": "3e4e7056-55f7-4597-cfb6-e2c1bc1c0d40"
      },
      "execution_count": 11,
      "outputs": [
        {
          "output_type": "stream",
          "name": "stdout",
          "text": [
            "abc\n",
            "5\n"
          ]
        }
      ]
    },
    {
      "cell_type": "code",
      "source": [
        "# Dictionary Management\n",
        "# ● Create a program to store five student names and their grades in a dictionary and then\n",
        "# print the dictionary.\n",
        "def dict_mng():\n",
        "    d = {\n",
        "        'ahmed': 'A+',\n",
        "        'hussain': 'C',\n",
        "        'aadil': 'C',\n",
        "        'ali': 'C',\n",
        "        'umer': 'B'\n",
        "    }\n",
        "    print(d)\n",
        "\n",
        "dict_mng()\n"
      ],
      "metadata": {
        "colab": {
          "base_uri": "https://localhost:8080/"
        },
        "id": "snN_aOY04zww",
        "outputId": "1ea3d730-13f6-4a5e-8312-ad32ce52e55a"
      },
      "execution_count": 12,
      "outputs": [
        {
          "output_type": "stream",
          "name": "stdout",
          "text": [
            "{'ahmed': 'A+', 'hussain': 'C', 'aadil': 'C', 'ali': 'C', 'umer': 'B'}\n"
          ]
        }
      ]
    },
    {
      "cell_type": "code",
      "source": [
        "# Set Operations\n",
        "# ● Take two lists of integers from the user, convert them to sets, and display their union,\n",
        "# intersection, and difference.\n",
        "\n",
        "def set_ops():\n",
        "    first = input(\"Enter list separated by spaces\")\n",
        "    second = input(\"Enter list separated by spaces\")\n",
        "\n",
        "    first_set = set(map(int, first.split()))\n",
        "    second_set = set(map(int, second.split()))\n",
        "\n",
        "    print(\"Union:\", first_set.union(second_set))\n",
        "    print(\"Intersection:\", first_set.intersection(second_set))\n",
        "    print(\"Difference:\", first_set.difference(second_set))\n",
        "\n",
        "set_ops()"
      ],
      "metadata": {
        "colab": {
          "base_uri": "https://localhost:8080/"
        },
        "id": "OlxjEyt-5IpS",
        "outputId": "b54685dd-8892-426f-8853-e1f47d24562a"
      },
      "execution_count": 13,
      "outputs": [
        {
          "output_type": "stream",
          "name": "stdout",
          "text": [
            "Enter list separated by spaces1 2 3 4\n",
            "Enter list separated by spaces4 5 6 7\n",
            "Union: {1, 2, 3, 4, 5, 6, 7}\n",
            "Intersection: {4}\n",
            "Difference: {1, 2, 3}\n"
          ]
        }
      ]
    },
    {
      "cell_type": "code",
      "source": [
        "# # Conditional Statements: Number Checker\n",
        "# ● Ask the user to enter an integer and determine if it is positive, negative, or zero, and\n",
        "# whether it is even or odd.\n",
        "def cond_state():\n",
        "    num = int(input(\"Enter num\"))\n",
        "    if num == 0:\n",
        "        print(\"zero\")\n",
        "    elif num > 0:\n",
        "        print(\"positive\")\n",
        "    else:\n",
        "        print(\"negative\")\n",
        "\n",
        "    print(\"even\") if num%2 == 0 else print(\"odd\")\n",
        "\n",
        "cond_state()"
      ],
      "metadata": {
        "colab": {
          "base_uri": "https://localhost:8080/"
        },
        "id": "bO5Bj6h35qrl",
        "outputId": "3cb654e4-5372-4c7b-8dbd-d69548d55dca"
      },
      "execution_count": 15,
      "outputs": [
        {
          "output_type": "stream",
          "name": "stdout",
          "text": [
            "Enter num5\n",
            "positive\n",
            "odd\n"
          ]
        }
      ]
    },
    {
      "cell_type": "code",
      "source": [
        "# FizzBuzz\n",
        "# ● Print numbers from 1 to 50, replacing multiples of three with \"Fizz\", multiples of five with\n",
        "# \"Buzz\", and multiples of both with \"FizzBuzz\"\n",
        "def fizzbuzz():\n",
        "    for i in range (1,50):\n",
        "        if i%3 == 0 and i%5 == 0:\n",
        "            print(\"fizzbuzz\")\n",
        "        elif i%3 == 0:\n",
        "            print(\"fizz\")\n",
        "        elif i%5 == 0:\n",
        "            print(\"buzz\")\n",
        "        else:\n",
        "            print(i)\n",
        "\n",
        "fizzbuzz()"
      ],
      "metadata": {
        "colab": {
          "base_uri": "https://localhost:8080/"
        },
        "collapsed": true,
        "id": "GUYqqyH26LaP",
        "outputId": "4113007d-4aa2-49be-d92e-2d491bd3118b"
      },
      "execution_count": 19,
      "outputs": [
        {
          "output_type": "stream",
          "name": "stdout",
          "text": [
            "1\n",
            "2\n",
            "fizz\n",
            "4\n",
            "buzz\n",
            "fizz\n",
            "7\n",
            "8\n",
            "fizz\n",
            "buzz\n",
            "11\n",
            "fizz\n",
            "13\n",
            "14\n",
            "fizzbuzz\n",
            "16\n",
            "17\n",
            "fizz\n",
            "19\n",
            "buzz\n",
            "fizz\n",
            "22\n",
            "23\n",
            "fizz\n",
            "buzz\n",
            "26\n",
            "fizz\n",
            "28\n",
            "29\n",
            "fizzbuzz\n",
            "31\n",
            "32\n",
            "fizz\n",
            "34\n",
            "buzz\n",
            "fizz\n",
            "37\n",
            "38\n",
            "fizz\n",
            "buzz\n",
            "41\n",
            "fizz\n",
            "43\n",
            "44\n",
            "fizzbuzz\n",
            "46\n",
            "47\n",
            "fizz\n",
            "49\n"
          ]
        }
      ]
    },
    {
      "cell_type": "code",
      "source": [
        "# Function: Factorial Calculator\n",
        "# ● Define a function to calculate the factorial of a non-negative integer using a loop.\n",
        "def factorial():\n",
        "    num = int(input(\"enter num\"))\n",
        "    f = 1\n",
        "    for i in range(1,num+1):\n",
        "        f = f*i\n",
        "    print(f)\n",
        "factorial()"
      ],
      "metadata": {
        "colab": {
          "base_uri": "https://localhost:8080/"
        },
        "id": "n2ICgJIn7tn6",
        "outputId": "e3cf065a-0e69-4403-84b3-84e6df78da97"
      },
      "execution_count": 25,
      "outputs": [
        {
          "output_type": "stream",
          "name": "stdout",
          "text": [
            "enter num6\n",
            "720\n"
          ]
        }
      ]
    },
    {
      "cell_type": "code",
      "source": [
        "# Prime Number Checker\n",
        "# ● Create a function to check if a number is prime and use it to verify a user-entered\n",
        "# number.\n",
        "def prime():\n",
        "    num = int(input(\"enter num\"))\n",
        "\n",
        "    prime = True\n",
        "    for i in range(2,num):\n",
        "        if num%i == 0:\n",
        "            print(\"not prime\")\n",
        "            prime = False\n",
        "\n",
        "    if prime:\n",
        "        print(\"prime\")\n",
        "\n",
        "prime()"
      ],
      "metadata": {
        "colab": {
          "base_uri": "https://localhost:8080/"
        },
        "id": "HP2s1Ull8fEM",
        "outputId": "9d4b6830-5a30-4865-cfce-aa5d94bbc331"
      },
      "execution_count": 27,
      "outputs": [
        {
          "output_type": "stream",
          "name": "stdout",
          "text": [
            "enter num25\n",
            "not prime\n"
          ]
        }
      ]
    },
    {
      "cell_type": "code",
      "source": [
        "# List Comprehension: Squares\n",
        "# ● Write a function that takes a list of integers and returns a new list with the squares of\n",
        "# each number using list comprehension.\n",
        "\n",
        "def squares():\n",
        "    inp = True\n",
        "\n",
        "    arr = []\n",
        "    sq = []\n",
        "    while inp:\n",
        "        data = input(\"Enter number or write quit\")\n",
        "        if \"quit\" in data:\n",
        "            inp = False\n",
        "        else:\n",
        "            arr.append(int(data))\n",
        "\n",
        "    for a in arr:\n",
        "        sq.append(a*a)\n",
        "    print(arr)\n",
        "    print(sq)\n",
        "\n",
        "squares()\n",
        ""
      ],
      "metadata": {
        "colab": {
          "base_uri": "https://localhost:8080/"
        },
        "id": "Neoe7E859ppg",
        "outputId": "72cddbc0-11f5-4c9f-d82c-191fdfc8277a"
      },
      "execution_count": 31,
      "outputs": [
        {
          "output_type": "stream",
          "name": "stdout",
          "text": [
            "Enter number or write quit5\n",
            "Enter number or write quit6\n",
            "Enter number or write quit7\n",
            "Enter number or write quit8\n",
            "Enter number or write quitend\n",
            "[5, 6, 7, 8]\n",
            "[25, 36, 49, 64]\n"
          ]
        }
      ]
    },
    {
      "cell_type": "code",
      "source": [
        "# Merge Dictionaries\n",
        "# ● Merge two dictionaries into one, with the second dictionary's values overwriting the first's\n",
        "# in case of duplicate keys.\n",
        "def merge_dict():\n",
        "    first = {\n",
        "        'a': 5,\n",
        "        'b': 6,\n",
        "        'c': 7\n",
        "    }\n",
        "    second = {\n",
        "        'a': 10,\n",
        "        'd': 11,\n",
        "        'e': 12\n",
        "    }\n",
        "\n",
        "    merged = first.copy()\n",
        "\n",
        "    for k, v in second.items():\n",
        "        merged[k] = v\n",
        "\n",
        "    print(merged)\n",
        "\n",
        "merge_dict()"
      ],
      "metadata": {
        "colab": {
          "base_uri": "https://localhost:8080/"
        },
        "id": "nf3Mk-Ri_LDR",
        "outputId": "3c7f41e8-ddfd-48c7-b93b-2f14498a6454"
      },
      "execution_count": 32,
      "outputs": [
        {
          "output_type": "stream",
          "name": "stdout",
          "text": [
            "{'a': 10, 'b': 6, 'c': 7, 'd': 11, 'e': 12}\n"
          ]
        }
      ]
    },
    {
      "cell_type": "code",
      "source": [
        "# Remove Duplicates from a List\n",
        "# ● Write a function that removes duplicates from a list of integers while preserving the\n",
        "# original order.\n",
        "def rem_dup_list():\n",
        "    arr = [4,5,6,7,4,6,7,8,3,4,6,8,9,0,123,3]\n",
        "    arr2 = []\n",
        "    for i in arr:\n",
        "        if not i in arr2:\n",
        "            arr2.append(i)\n",
        "    print(arr2)\n",
        "rem_dup_list()"
      ],
      "metadata": {
        "colab": {
          "base_uri": "https://localhost:8080/"
        },
        "id": "_2aNYLIdA3_a",
        "outputId": "bd6c6fb7-8d94-4527-a786-519324804395"
      },
      "execution_count": 39,
      "outputs": [
        {
          "output_type": "stream",
          "name": "stdout",
          "text": [
            "[4, 5, 6, 7, 8, 3, 9, 0, 123]\n"
          ]
        }
      ]
    },
    {
      "cell_type": "code",
      "source": [
        "# Palindrome Checker\n",
        "# ● Create a function to check whether a given string is a palindrome, ignoring case and\n",
        "# spaces.\n",
        "def palindrome():\n",
        "    string = \"ahmed\"\n",
        "    isPalindrome = lambda string:string == string[::-1]\n",
        "\n",
        "    if isPalindrome(string):\n",
        "        print(\"yes\")\n",
        "    else:\n",
        "        print(\"no\")\n",
        "\n",
        "palindrome()"
      ],
      "metadata": {
        "colab": {
          "base_uri": "https://localhost:8080/"
        },
        "id": "qKfktpcaD0AX",
        "outputId": "f7be47cd-8bfa-4e78-d281-10e86222b4e0"
      },
      "execution_count": 41,
      "outputs": [
        {
          "output_type": "stream",
          "name": "stdout",
          "text": [
            "no\n"
          ]
        }
      ]
    },
    {
      "cell_type": "code",
      "source": [
        "# Fibonacci Sequence Generator\n",
        "# ● Write a function that generates the first n numbers in the Fibonacci sequence based on\n",
        "# user input.\n",
        "def fibo():\n",
        "    first = 0\n",
        "    second = 1\n",
        "    num = int(input(\"how many\"))\n",
        "    print(first)\n",
        "    print(second)\n",
        "\n",
        "\n",
        "    for i in range(0,num):\n",
        "        temp = first+second\n",
        "        first = second\n",
        "        second = temp\n",
        "        print(second)\n",
        "\n",
        "fibo()"
      ],
      "metadata": {
        "colab": {
          "base_uri": "https://localhost:8080/"
        },
        "id": "yCbytF-5D09K",
        "outputId": "50244dae-3e17-4aac-fe73-6f67f96f8be7"
      },
      "execution_count": 43,
      "outputs": [
        {
          "output_type": "stream",
          "name": "stdout",
          "text": [
            "how many10\n",
            "0\n",
            "1\n",
            "1\n",
            "2\n",
            "3\n",
            "5\n",
            "8\n",
            "13\n",
            "21\n",
            "34\n",
            "55\n",
            "89\n"
          ]
        }
      ]
    },
    {
      "cell_type": "code",
      "source": [
        "# Average Calculator with Validation\n",
        "# ● Develop a program that takes a series of numbers from the user, validates the input, and\n",
        "# calculates the average.\n",
        "\n",
        "def calc():\n",
        "    inp = True\n",
        "\n",
        "    arr = []\n",
        "    while inp:\n",
        "        data = input(\"Enter number or write quit\")\n",
        "        if \"quit\" in data:\n",
        "            inp = False\n",
        "        else:\n",
        "            try:\n",
        "                arr.append(int(data))\n",
        "            except:\n",
        "                continue\n",
        "    sum = 0\n",
        "    for i in arr:\n",
        "        sum = sum + i\n",
        "    print(sum/len(arr))\n",
        "\n",
        "calc()\n"
      ],
      "metadata": {
        "colab": {
          "base_uri": "https://localhost:8080/"
        },
        "id": "aPvaP2q9FU_f",
        "outputId": "6ce7116e-3bdf-42df-e0c5-09f097ef4bbd"
      },
      "execution_count": 44,
      "outputs": [
        {
          "output_type": "stream",
          "name": "stdout",
          "text": [
            "Enter number or write quit5\n",
            "Enter number or write quit5\n",
            "Enter number or write quit6\n",
            "Enter number or write quit7\n",
            "Enter number or write quit8\n",
            "Enter number or write quitf\n",
            "Enter number or write quit5\n",
            "Enter number or write quit7\n",
            "Enter number or write quitend\n",
            "6.142857142857143\n"
          ]
        }
      ]
    },
    {
      "cell_type": "code",
      "source": [
        "# Nested Loops: Multiplication Table\n",
        "# ● Generate and print a multiplication table from 1 to 10 using nested loops.\n",
        "\n",
        "def multi():\n",
        "    for i in range(1, 11):\n",
        "        for j in range(1, 11):\n",
        "            print(f\"{i} * {j} = {i*j}\")\n",
        "\n",
        "multi()"
      ],
      "metadata": {
        "colab": {
          "base_uri": "https://localhost:8080/"
        },
        "collapsed": true,
        "id": "b3cqE1NyGOya",
        "outputId": "3eb26177-e5d6-4c37-a011-2aa03cde4521"
      },
      "execution_count": 46,
      "outputs": [
        {
          "output_type": "stream",
          "name": "stdout",
          "text": [
            "1 * 1 = 1\n",
            "1 * 2 = 2\n",
            "1 * 3 = 3\n",
            "1 * 4 = 4\n",
            "1 * 5 = 5\n",
            "1 * 6 = 6\n",
            "1 * 7 = 7\n",
            "1 * 8 = 8\n",
            "1 * 9 = 9\n",
            "1 * 10 = 10\n",
            "2 * 1 = 2\n",
            "2 * 2 = 4\n",
            "2 * 3 = 6\n",
            "2 * 4 = 8\n",
            "2 * 5 = 10\n",
            "2 * 6 = 12\n",
            "2 * 7 = 14\n",
            "2 * 8 = 16\n",
            "2 * 9 = 18\n",
            "2 * 10 = 20\n",
            "3 * 1 = 3\n",
            "3 * 2 = 6\n",
            "3 * 3 = 9\n",
            "3 * 4 = 12\n",
            "3 * 5 = 15\n",
            "3 * 6 = 18\n",
            "3 * 7 = 21\n",
            "3 * 8 = 24\n",
            "3 * 9 = 27\n",
            "3 * 10 = 30\n",
            "4 * 1 = 4\n",
            "4 * 2 = 8\n",
            "4 * 3 = 12\n",
            "4 * 4 = 16\n",
            "4 * 5 = 20\n",
            "4 * 6 = 24\n",
            "4 * 7 = 28\n",
            "4 * 8 = 32\n",
            "4 * 9 = 36\n",
            "4 * 10 = 40\n",
            "5 * 1 = 5\n",
            "5 * 2 = 10\n",
            "5 * 3 = 15\n",
            "5 * 4 = 20\n",
            "5 * 5 = 25\n",
            "5 * 6 = 30\n",
            "5 * 7 = 35\n",
            "5 * 8 = 40\n",
            "5 * 9 = 45\n",
            "5 * 10 = 50\n",
            "6 * 1 = 6\n",
            "6 * 2 = 12\n",
            "6 * 3 = 18\n",
            "6 * 4 = 24\n",
            "6 * 5 = 30\n",
            "6 * 6 = 36\n",
            "6 * 7 = 42\n",
            "6 * 8 = 48\n",
            "6 * 9 = 54\n",
            "6 * 10 = 60\n",
            "7 * 1 = 7\n",
            "7 * 2 = 14\n",
            "7 * 3 = 21\n",
            "7 * 4 = 28\n",
            "7 * 5 = 35\n",
            "7 * 6 = 42\n",
            "7 * 7 = 49\n",
            "7 * 8 = 56\n",
            "7 * 9 = 63\n",
            "7 * 10 = 70\n",
            "8 * 1 = 8\n",
            "8 * 2 = 16\n",
            "8 * 3 = 24\n",
            "8 * 4 = 32\n",
            "8 * 5 = 40\n",
            "8 * 6 = 48\n",
            "8 * 7 = 56\n",
            "8 * 8 = 64\n",
            "8 * 9 = 72\n",
            "8 * 10 = 80\n",
            "9 * 1 = 9\n",
            "9 * 2 = 18\n",
            "9 * 3 = 27\n",
            "9 * 4 = 36\n",
            "9 * 5 = 45\n",
            "9 * 6 = 54\n",
            "9 * 7 = 63\n",
            "9 * 8 = 72\n",
            "9 * 9 = 81\n",
            "9 * 10 = 90\n",
            "10 * 1 = 10\n",
            "10 * 2 = 20\n",
            "10 * 3 = 30\n",
            "10 * 4 = 40\n",
            "10 * 5 = 50\n",
            "10 * 6 = 60\n",
            "10 * 7 = 70\n",
            "10 * 8 = 80\n",
            "10 * 9 = 90\n",
            "10 * 10 = 100\n"
          ]
        }
      ]
    },
    {
      "cell_type": "code",
      "source": [
        "# User Registration System\n",
        "# ● Implement a simple registration and login system using a dictionary to store user\n",
        "# credentials.\n",
        "def reglogin():\n",
        "    details = {\n",
        "        \"ahmed\": \"123\",\n",
        "        \"umer\": \"12\"\n",
        "    }\n",
        "    username = input(\"enter name\")\n",
        "    password = input(\"enter password\")\n",
        "\n",
        "    if username in details:\n",
        "        if details[username] == password:\n",
        "            print(\"Login\")\n",
        "        else:\n",
        "            print(\"wrong password.\")\n",
        "    else:\n",
        "        details[username] = password\n",
        "        print(\"Registered\")\n",
        "\n",
        "reglogin()"
      ],
      "metadata": {
        "colab": {
          "base_uri": "https://localhost:8080/"
        },
        "id": "GWBxNzybGkJz",
        "outputId": "8cf12e50-378b-4252-cd8f-fdb95df20d70"
      },
      "execution_count": 48,
      "outputs": [
        {
          "output_type": "stream",
          "name": "stdout",
          "text": [
            "enter nameabvx\n",
            "enter password1234\n",
            "Registered\n"
          ]
        }
      ]
    },
    {
      "cell_type": "code",
      "source": [
        "# Counting Elements with a Dictionary\n",
        "# ● Take a list of words from the user and count the frequency of each word using a\n",
        "# dictionary.\n",
        "def count_dict():\n",
        "    arr = []\n",
        "    inp = True\n",
        "    while inp:\n",
        "        data = input(\"Enter word or 0 to quit: \")\n",
        "        if data == \"0\":\n",
        "            inp = False\n",
        "        else:\n",
        "            arr.append(data)\n",
        "\n",
        "    count = {}\n",
        "    for word in arr:\n",
        "        if word in count:\n",
        "            count[word] += 1\n",
        "        else:\n",
        "            count[word] = 1\n",
        "\n",
        "    print(count)\n",
        "\n",
        "count_dict()\n",
        "\n",
        "\n",
        "\n"
      ],
      "metadata": {
        "colab": {
          "base_uri": "https://localhost:8080/"
        },
        "id": "NfsIMtNeH_oP",
        "outputId": "3308b761-5377-4315-893b-a8fc8b3fda23"
      },
      "execution_count": 49,
      "outputs": [
        {
          "output_type": "stream",
          "name": "stdout",
          "text": [
            "Enter word or 0 to quit: ahmed\n",
            "Enter word or 0 to quit: word\n",
            "Enter word or 0 to quit: umer\n",
            "Enter word or 0 to quit: ahmed\n",
            "Enter word or 0 to quit: 0\n",
            "{'ahmed': 2, 'word': 1, 'umer': 1}\n"
          ]
        }
      ]
    },
    {
      "cell_type": "code",
      "source": [
        "# Temperature Converter\n",
        "# ● Create a function to convert temperatures between Celsius and Fahrenheit based on\n",
        "# user choice.\n",
        "\n",
        "def celc_fahren():\n",
        "    choice = input(\"celc or fahren\")\n",
        "    temp = int(input(\"enter val\"))\n",
        "\n",
        "    if \"celc\" in choice:\n",
        "        temp = (temp * 9/5) + 32\n",
        "    elif \"fahren\" in choice:\n",
        "        temp = (temp - 32) * 5/9\n",
        "    else:\n",
        "        print('WRONG')\n",
        "    print(temp)\n",
        "\n",
        "celc_fahren()"
      ],
      "metadata": {
        "colab": {
          "base_uri": "https://localhost:8080/"
        },
        "id": "oMdvEZTBI8Jg",
        "outputId": "2ce9f75c-7573-4fa8-cea4-36a30d46d9e2"
      },
      "execution_count": 50,
      "outputs": [
        {
          "output_type": "stream",
          "name": "stdout",
          "text": [
            "celc or fahrencelc\n",
            "enter val52\n",
            "125.6\n"
          ]
        }
      ]
    }
  ]
}